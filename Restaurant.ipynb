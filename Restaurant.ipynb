{
 "cells": [
  {
   "cell_type": "code",
   "execution_count": 1,
   "id": "dd18f884-67f7-40f8-9c0c-fa2b15b781a0",
   "metadata": {},
   "outputs": [],
   "source": [
    "import pandas as pd\n",
    "import numpy as np"
   ]
  },
  {
   "cell_type": "code",
   "execution_count": 2,
   "id": "c25d9c4c-f581-458c-87f2-9524827e4bfc",
   "metadata": {},
   "outputs": [],
   "source": [
    "restaurant_data = pd.read_csv(\"data/Dataset.csv\")\n"
   ]
  },
  {
   "cell_type": "code",
   "execution_count": 3,
   "id": "d02647c2-1cc7-4b60-8473-19c2e19bf09a",
   "metadata": {},
   "outputs": [
    {
     "data": {
      "text/html": [
       "<div>\n",
       "<style scoped>\n",
       "    .dataframe tbody tr th:only-of-type {\n",
       "        vertical-align: middle;\n",
       "    }\n",
       "\n",
       "    .dataframe tbody tr th {\n",
       "        vertical-align: top;\n",
       "    }\n",
       "\n",
       "    .dataframe thead th {\n",
       "        text-align: right;\n",
       "    }\n",
       "</style>\n",
       "<table border=\"1\" class=\"dataframe\">\n",
       "  <thead>\n",
       "    <tr style=\"text-align: right;\">\n",
       "      <th></th>\n",
       "      <th>Restaurant ID</th>\n",
       "      <th>Restaurant Name</th>\n",
       "      <th>Country Code</th>\n",
       "      <th>City</th>\n",
       "      <th>Address</th>\n",
       "      <th>Cuisines</th>\n",
       "      <th>Average Cost for two</th>\n",
       "      <th>Currency</th>\n",
       "      <th>Price range</th>\n",
       "      <th>Aggregate rating</th>\n",
       "      <th>Votes</th>\n",
       "    </tr>\n",
       "  </thead>\n",
       "  <tbody>\n",
       "    <tr>\n",
       "      <th>0</th>\n",
       "      <td>6317637</td>\n",
       "      <td>Le Petit Souffle</td>\n",
       "      <td>162</td>\n",
       "      <td>Makati City</td>\n",
       "      <td>Third Floor, Century City Mall, Kalayaan Avenu...</td>\n",
       "      <td>French, Japanese, Desserts</td>\n",
       "      <td>1100</td>\n",
       "      <td>Botswana Pula(P)</td>\n",
       "      <td>3</td>\n",
       "      <td>4.8</td>\n",
       "      <td>314</td>\n",
       "    </tr>\n",
       "    <tr>\n",
       "      <th>1</th>\n",
       "      <td>6304287</td>\n",
       "      <td>Izakaya Kikufuji</td>\n",
       "      <td>162</td>\n",
       "      <td>Makati City</td>\n",
       "      <td>Little Tokyo, 2277 Chino Roces Avenue, Legaspi...</td>\n",
       "      <td>Japanese</td>\n",
       "      <td>1200</td>\n",
       "      <td>Botswana Pula(P)</td>\n",
       "      <td>3</td>\n",
       "      <td>4.5</td>\n",
       "      <td>591</td>\n",
       "    </tr>\n",
       "    <tr>\n",
       "      <th>2</th>\n",
       "      <td>6300002</td>\n",
       "      <td>Heat - Edsa Shangri-La</td>\n",
       "      <td>162</td>\n",
       "      <td>Mandaluyong City</td>\n",
       "      <td>Edsa Shangri-La, 1 Garden Way, Ortigas, Mandal...</td>\n",
       "      <td>Seafood, Asian, Filipino, Indian</td>\n",
       "      <td>4000</td>\n",
       "      <td>Botswana Pula(P)</td>\n",
       "      <td>4</td>\n",
       "      <td>4.4</td>\n",
       "      <td>270</td>\n",
       "    </tr>\n",
       "    <tr>\n",
       "      <th>3</th>\n",
       "      <td>6318506</td>\n",
       "      <td>Ooma</td>\n",
       "      <td>162</td>\n",
       "      <td>Mandaluyong City</td>\n",
       "      <td>Third Floor, Mega Fashion Hall, SM Megamall, O...</td>\n",
       "      <td>Japanese, Sushi</td>\n",
       "      <td>1500</td>\n",
       "      <td>Botswana Pula(P)</td>\n",
       "      <td>4</td>\n",
       "      <td>4.9</td>\n",
       "      <td>365</td>\n",
       "    </tr>\n",
       "    <tr>\n",
       "      <th>4</th>\n",
       "      <td>6314302</td>\n",
       "      <td>Sambo Kojin</td>\n",
       "      <td>162</td>\n",
       "      <td>Mandaluyong City</td>\n",
       "      <td>Third Floor, Mega Atrium, SM Megamall, Ortigas...</td>\n",
       "      <td>Japanese, Korean</td>\n",
       "      <td>1500</td>\n",
       "      <td>Botswana Pula(P)</td>\n",
       "      <td>4</td>\n",
       "      <td>4.8</td>\n",
       "      <td>229</td>\n",
       "    </tr>\n",
       "  </tbody>\n",
       "</table>\n",
       "</div>"
      ],
      "text/plain": [
       "   Restaurant ID         Restaurant Name  Country Code              City  \\\n",
       "0        6317637        Le Petit Souffle           162       Makati City   \n",
       "1        6304287        Izakaya Kikufuji           162       Makati City   \n",
       "2        6300002  Heat - Edsa Shangri-La           162  Mandaluyong City   \n",
       "3        6318506                    Ooma           162  Mandaluyong City   \n",
       "4        6314302             Sambo Kojin           162  Mandaluyong City   \n",
       "\n",
       "                                             Address  \\\n",
       "0  Third Floor, Century City Mall, Kalayaan Avenu...   \n",
       "1  Little Tokyo, 2277 Chino Roces Avenue, Legaspi...   \n",
       "2  Edsa Shangri-La, 1 Garden Way, Ortigas, Mandal...   \n",
       "3  Third Floor, Mega Fashion Hall, SM Megamall, O...   \n",
       "4  Third Floor, Mega Atrium, SM Megamall, Ortigas...   \n",
       "\n",
       "                           Cuisines  Average Cost for two          Currency  \\\n",
       "0        French, Japanese, Desserts                  1100  Botswana Pula(P)   \n",
       "1                          Japanese                  1200  Botswana Pula(P)   \n",
       "2  Seafood, Asian, Filipino, Indian                  4000  Botswana Pula(P)   \n",
       "3                   Japanese, Sushi                  1500  Botswana Pula(P)   \n",
       "4                  Japanese, Korean                  1500  Botswana Pula(P)   \n",
       "\n",
       "   Price range  Aggregate rating  Votes  \n",
       "0            3               4.8    314  \n",
       "1            3               4.5    591  \n",
       "2            4               4.4    270  \n",
       "3            4               4.9    365  \n",
       "4            4               4.8    229  "
      ]
     },
     "execution_count": 3,
     "metadata": {},
     "output_type": "execute_result"
    }
   ],
   "source": [
    "restaurant_data.head()"
   ]
  },
  {
   "cell_type": "code",
   "execution_count": 4,
   "id": "fe0afc65-545a-4bea-9efa-106d2cab27d1",
   "metadata": {},
   "outputs": [
    {
     "data": {
      "text/plain": [
       "Restaurant ID           0\n",
       "Restaurant Name         0\n",
       "Country Code            0\n",
       "City                    0\n",
       "Address                 0\n",
       "Cuisines                9\n",
       "Average Cost for two    0\n",
       "Currency                0\n",
       "Price range             0\n",
       "Aggregate rating        0\n",
       "Votes                   0\n",
       "dtype: int64"
      ]
     },
     "execution_count": 4,
     "metadata": {},
     "output_type": "execute_result"
    }
   ],
   "source": [
    "restaurant_data.isnull().sum()"
   ]
  },
  {
   "cell_type": "code",
   "execution_count": 5,
   "id": "1b98ad29-68ca-41b3-8c2c-551a2494ec98",
   "metadata": {},
   "outputs": [
    {
     "data": {
      "text/plain": [
       "Restaurant ID           0\n",
       "Restaurant Name         0\n",
       "Country Code            0\n",
       "City                    0\n",
       "Address                 0\n",
       "Cuisines                0\n",
       "Average Cost for two    0\n",
       "Currency                0\n",
       "Price range             0\n",
       "Aggregate rating        0\n",
       "Votes                   0\n",
       "dtype: int64"
      ]
     },
     "execution_count": 5,
     "metadata": {},
     "output_type": "execute_result"
    }
   ],
   "source": [
    "restaurant_data = restaurant_data.dropna()\n",
    "restaurant_data.isnull().sum()"
   ]
  },
  {
   "cell_type": "code",
   "execution_count": 6,
   "id": "c15ea4c8-fcd0-4e92-af1a-dc8787af6a20",
   "metadata": {},
   "outputs": [
    {
     "data": {
      "text/plain": [
       "0"
      ]
     },
     "execution_count": 6,
     "metadata": {},
     "output_type": "execute_result"
    }
   ],
   "source": [
    "restaurant_data.duplicated().sum()"
   ]
  },
  {
   "cell_type": "code",
   "execution_count": 7,
   "id": "d2435e39-fd97-48d8-bf4d-08778e748d31",
   "metadata": {},
   "outputs": [],
   "source": [
    "restaurant_data['City'] = restaurant_data['City'].apply(lambda x:x.split())\n",
    "restaurant_data['Cuisines'] = restaurant_data['Cuisines'].apply(lambda x:x.split())"
   ]
  },
  {
   "cell_type": "code",
   "execution_count": 8,
   "id": "4c83a8d5-cf6a-4b3f-91e4-746e76e828ac",
   "metadata": {},
   "outputs": [],
   "source": [
    "# Convert 'Address' and 'Average Cost for two' to string and split them for tagging\n",
    "restaurant_data['Address'] = restaurant_data['Address'].astype(str).apply(lambda x:x.split())"
   ]
  },
  {
   "cell_type": "code",
   "execution_count": 9,
   "id": "4272af60-d603-4772-9682-bca0e7bfe949",
   "metadata": {},
   "outputs": [
    {
     "data": {
      "text/html": [
       "<div>\n",
       "<style scoped>\n",
       "    .dataframe tbody tr th:only-of-type {\n",
       "        vertical-align: middle;\n",
       "    }\n",
       "\n",
       "    .dataframe tbody tr th {\n",
       "        vertical-align: top;\n",
       "    }\n",
       "\n",
       "    .dataframe thead th {\n",
       "        text-align: right;\n",
       "    }\n",
       "</style>\n",
       "<table border=\"1\" class=\"dataframe\">\n",
       "  <thead>\n",
       "    <tr style=\"text-align: right;\">\n",
       "      <th></th>\n",
       "      <th>Restaurant ID</th>\n",
       "      <th>Restaurant Name</th>\n",
       "      <th>Country Code</th>\n",
       "      <th>City</th>\n",
       "      <th>Address</th>\n",
       "      <th>Cuisines</th>\n",
       "      <th>Average Cost for two</th>\n",
       "      <th>Currency</th>\n",
       "      <th>Price range</th>\n",
       "      <th>Aggregate rating</th>\n",
       "      <th>Votes</th>\n",
       "    </tr>\n",
       "  </thead>\n",
       "  <tbody>\n",
       "    <tr>\n",
       "      <th>0</th>\n",
       "      <td>6317637</td>\n",
       "      <td>Le Petit Souffle</td>\n",
       "      <td>162</td>\n",
       "      <td>[Makati, City]</td>\n",
       "      <td>[Third, Floor,, Century, City, Mall,, Kalayaan...</td>\n",
       "      <td>[French,, Japanese,, Desserts]</td>\n",
       "      <td>1100</td>\n",
       "      <td>Botswana Pula(P)</td>\n",
       "      <td>3</td>\n",
       "      <td>4.8</td>\n",
       "      <td>314</td>\n",
       "    </tr>\n",
       "    <tr>\n",
       "      <th>1</th>\n",
       "      <td>6304287</td>\n",
       "      <td>Izakaya Kikufuji</td>\n",
       "      <td>162</td>\n",
       "      <td>[Makati, City]</td>\n",
       "      <td>[Little, Tokyo,, 2277, Chino, Roces, Avenue,, ...</td>\n",
       "      <td>[Japanese]</td>\n",
       "      <td>1200</td>\n",
       "      <td>Botswana Pula(P)</td>\n",
       "      <td>3</td>\n",
       "      <td>4.5</td>\n",
       "      <td>591</td>\n",
       "    </tr>\n",
       "    <tr>\n",
       "      <th>2</th>\n",
       "      <td>6300002</td>\n",
       "      <td>Heat - Edsa Shangri-La</td>\n",
       "      <td>162</td>\n",
       "      <td>[Mandaluyong, City]</td>\n",
       "      <td>[Edsa, Shangri-La,, 1, Garden, Way,, Ortigas,,...</td>\n",
       "      <td>[Seafood,, Asian,, Filipino,, Indian]</td>\n",
       "      <td>4000</td>\n",
       "      <td>Botswana Pula(P)</td>\n",
       "      <td>4</td>\n",
       "      <td>4.4</td>\n",
       "      <td>270</td>\n",
       "    </tr>\n",
       "    <tr>\n",
       "      <th>3</th>\n",
       "      <td>6318506</td>\n",
       "      <td>Ooma</td>\n",
       "      <td>162</td>\n",
       "      <td>[Mandaluyong, City]</td>\n",
       "      <td>[Third, Floor,, Mega, Fashion, Hall,, SM, Mega...</td>\n",
       "      <td>[Japanese,, Sushi]</td>\n",
       "      <td>1500</td>\n",
       "      <td>Botswana Pula(P)</td>\n",
       "      <td>4</td>\n",
       "      <td>4.9</td>\n",
       "      <td>365</td>\n",
       "    </tr>\n",
       "    <tr>\n",
       "      <th>4</th>\n",
       "      <td>6314302</td>\n",
       "      <td>Sambo Kojin</td>\n",
       "      <td>162</td>\n",
       "      <td>[Mandaluyong, City]</td>\n",
       "      <td>[Third, Floor,, Mega, Atrium,, SM, Megamall,, ...</td>\n",
       "      <td>[Japanese,, Korean]</td>\n",
       "      <td>1500</td>\n",
       "      <td>Botswana Pula(P)</td>\n",
       "      <td>4</td>\n",
       "      <td>4.8</td>\n",
       "      <td>229</td>\n",
       "    </tr>\n",
       "  </tbody>\n",
       "</table>\n",
       "</div>"
      ],
      "text/plain": [
       "   Restaurant ID         Restaurant Name  Country Code                 City  \\\n",
       "0        6317637        Le Petit Souffle           162       [Makati, City]   \n",
       "1        6304287        Izakaya Kikufuji           162       [Makati, City]   \n",
       "2        6300002  Heat - Edsa Shangri-La           162  [Mandaluyong, City]   \n",
       "3        6318506                    Ooma           162  [Mandaluyong, City]   \n",
       "4        6314302             Sambo Kojin           162  [Mandaluyong, City]   \n",
       "\n",
       "                                             Address  \\\n",
       "0  [Third, Floor,, Century, City, Mall,, Kalayaan...   \n",
       "1  [Little, Tokyo,, 2277, Chino, Roces, Avenue,, ...   \n",
       "2  [Edsa, Shangri-La,, 1, Garden, Way,, Ortigas,,...   \n",
       "3  [Third, Floor,, Mega, Fashion, Hall,, SM, Mega...   \n",
       "4  [Third, Floor,, Mega, Atrium,, SM, Megamall,, ...   \n",
       "\n",
       "                                Cuisines  Average Cost for two  \\\n",
       "0         [French,, Japanese,, Desserts]                  1100   \n",
       "1                             [Japanese]                  1200   \n",
       "2  [Seafood,, Asian,, Filipino,, Indian]                  4000   \n",
       "3                     [Japanese,, Sushi]                  1500   \n",
       "4                    [Japanese,, Korean]                  1500   \n",
       "\n",
       "           Currency  Price range  Aggregate rating  Votes  \n",
       "0  Botswana Pula(P)            3               4.8    314  \n",
       "1  Botswana Pula(P)            3               4.5    591  \n",
       "2  Botswana Pula(P)            4               4.4    270  \n",
       "3  Botswana Pula(P)            4               4.9    365  \n",
       "4  Botswana Pula(P)            4               4.8    229  "
      ]
     },
     "execution_count": 9,
     "metadata": {},
     "output_type": "execute_result"
    }
   ],
   "source": [
    "restaurant_data.head()"
   ]
  },
  {
   "cell_type": "code",
   "execution_count": 10,
   "id": "e5c47727-b9c6-4c07-9057-5a3fef17b4b6",
   "metadata": {},
   "outputs": [],
   "source": [
    "# Combine City, Cuisines, Address, and Average Cost for two into the 'tag' column\n",
    "restaurant_data['tag'] = restaurant_data['City'] + restaurant_data['Cuisines']"
   ]
  },
  {
   "cell_type": "code",
   "execution_count": 11,
   "id": "5271b1b2-035a-428c-97d8-56a2a62581b2",
   "metadata": {},
   "outputs": [
    {
     "data": {
      "text/plain": [
       "['Mandaluyong', 'City', 'Seafood,', 'Asian,', 'Filipino,', 'Indian']"
      ]
     },
     "execution_count": 11,
     "metadata": {},
     "output_type": "execute_result"
    }
   ],
   "source": [
    "restaurant_data['tag'][2]"
   ]
  },
  {
   "cell_type": "code",
   "execution_count": 12,
   "id": "74272a45-e229-4382-89f4-e254e8c3cfd6",
   "metadata": {},
   "outputs": [
    {
     "data": {
      "text/html": [
       "<div>\n",
       "<style scoped>\n",
       "    .dataframe tbody tr th:only-of-type {\n",
       "        vertical-align: middle;\n",
       "    }\n",
       "\n",
       "    .dataframe tbody tr th {\n",
       "        vertical-align: top;\n",
       "    }\n",
       "\n",
       "    .dataframe thead th {\n",
       "        text-align: right;\n",
       "    }\n",
       "</style>\n",
       "<table border=\"1\" class=\"dataframe\">\n",
       "  <thead>\n",
       "    <tr style=\"text-align: right;\">\n",
       "      <th></th>\n",
       "      <th>Restaurant ID</th>\n",
       "      <th>Restaurant Name</th>\n",
       "      <th>Country Code</th>\n",
       "      <th>City</th>\n",
       "      <th>Address</th>\n",
       "      <th>Cuisines</th>\n",
       "      <th>Average Cost for two</th>\n",
       "      <th>Currency</th>\n",
       "      <th>Price range</th>\n",
       "      <th>Aggregate rating</th>\n",
       "      <th>Votes</th>\n",
       "      <th>tag</th>\n",
       "    </tr>\n",
       "  </thead>\n",
       "  <tbody>\n",
       "    <tr>\n",
       "      <th>0</th>\n",
       "      <td>6317637</td>\n",
       "      <td>Le Petit Souffle</td>\n",
       "      <td>162</td>\n",
       "      <td>[Makati, City]</td>\n",
       "      <td>[Third, Floor,, Century, City, Mall,, Kalayaan...</td>\n",
       "      <td>[French,, Japanese,, Desserts]</td>\n",
       "      <td>1100</td>\n",
       "      <td>Botswana Pula(P)</td>\n",
       "      <td>3</td>\n",
       "      <td>4.8</td>\n",
       "      <td>314</td>\n",
       "      <td>[Makati, City, French,, Japanese,, Desserts]</td>\n",
       "    </tr>\n",
       "    <tr>\n",
       "      <th>1</th>\n",
       "      <td>6304287</td>\n",
       "      <td>Izakaya Kikufuji</td>\n",
       "      <td>162</td>\n",
       "      <td>[Makati, City]</td>\n",
       "      <td>[Little, Tokyo,, 2277, Chino, Roces, Avenue,, ...</td>\n",
       "      <td>[Japanese]</td>\n",
       "      <td>1200</td>\n",
       "      <td>Botswana Pula(P)</td>\n",
       "      <td>3</td>\n",
       "      <td>4.5</td>\n",
       "      <td>591</td>\n",
       "      <td>[Makati, City, Japanese]</td>\n",
       "    </tr>\n",
       "    <tr>\n",
       "      <th>2</th>\n",
       "      <td>6300002</td>\n",
       "      <td>Heat - Edsa Shangri-La</td>\n",
       "      <td>162</td>\n",
       "      <td>[Mandaluyong, City]</td>\n",
       "      <td>[Edsa, Shangri-La,, 1, Garden, Way,, Ortigas,,...</td>\n",
       "      <td>[Seafood,, Asian,, Filipino,, Indian]</td>\n",
       "      <td>4000</td>\n",
       "      <td>Botswana Pula(P)</td>\n",
       "      <td>4</td>\n",
       "      <td>4.4</td>\n",
       "      <td>270</td>\n",
       "      <td>[Mandaluyong, City, Seafood,, Asian,, Filipino...</td>\n",
       "    </tr>\n",
       "    <tr>\n",
       "      <th>3</th>\n",
       "      <td>6318506</td>\n",
       "      <td>Ooma</td>\n",
       "      <td>162</td>\n",
       "      <td>[Mandaluyong, City]</td>\n",
       "      <td>[Third, Floor,, Mega, Fashion, Hall,, SM, Mega...</td>\n",
       "      <td>[Japanese,, Sushi]</td>\n",
       "      <td>1500</td>\n",
       "      <td>Botswana Pula(P)</td>\n",
       "      <td>4</td>\n",
       "      <td>4.9</td>\n",
       "      <td>365</td>\n",
       "      <td>[Mandaluyong, City, Japanese,, Sushi]</td>\n",
       "    </tr>\n",
       "    <tr>\n",
       "      <th>4</th>\n",
       "      <td>6314302</td>\n",
       "      <td>Sambo Kojin</td>\n",
       "      <td>162</td>\n",
       "      <td>[Mandaluyong, City]</td>\n",
       "      <td>[Third, Floor,, Mega, Atrium,, SM, Megamall,, ...</td>\n",
       "      <td>[Japanese,, Korean]</td>\n",
       "      <td>1500</td>\n",
       "      <td>Botswana Pula(P)</td>\n",
       "      <td>4</td>\n",
       "      <td>4.8</td>\n",
       "      <td>229</td>\n",
       "      <td>[Mandaluyong, City, Japanese,, Korean]</td>\n",
       "    </tr>\n",
       "  </tbody>\n",
       "</table>\n",
       "</div>"
      ],
      "text/plain": [
       "   Restaurant ID         Restaurant Name  Country Code                 City  \\\n",
       "0        6317637        Le Petit Souffle           162       [Makati, City]   \n",
       "1        6304287        Izakaya Kikufuji           162       [Makati, City]   \n",
       "2        6300002  Heat - Edsa Shangri-La           162  [Mandaluyong, City]   \n",
       "3        6318506                    Ooma           162  [Mandaluyong, City]   \n",
       "4        6314302             Sambo Kojin           162  [Mandaluyong, City]   \n",
       "\n",
       "                                             Address  \\\n",
       "0  [Third, Floor,, Century, City, Mall,, Kalayaan...   \n",
       "1  [Little, Tokyo,, 2277, Chino, Roces, Avenue,, ...   \n",
       "2  [Edsa, Shangri-La,, 1, Garden, Way,, Ortigas,,...   \n",
       "3  [Third, Floor,, Mega, Fashion, Hall,, SM, Mega...   \n",
       "4  [Third, Floor,, Mega, Atrium,, SM, Megamall,, ...   \n",
       "\n",
       "                                Cuisines  Average Cost for two  \\\n",
       "0         [French,, Japanese,, Desserts]                  1100   \n",
       "1                             [Japanese]                  1200   \n",
       "2  [Seafood,, Asian,, Filipino,, Indian]                  4000   \n",
       "3                     [Japanese,, Sushi]                  1500   \n",
       "4                    [Japanese,, Korean]                  1500   \n",
       "\n",
       "           Currency  Price range  Aggregate rating  Votes  \\\n",
       "0  Botswana Pula(P)            3               4.8    314   \n",
       "1  Botswana Pula(P)            3               4.5    591   \n",
       "2  Botswana Pula(P)            4               4.4    270   \n",
       "3  Botswana Pula(P)            4               4.9    365   \n",
       "4  Botswana Pula(P)            4               4.8    229   \n",
       "\n",
       "                                                 tag  \n",
       "0       [Makati, City, French,, Japanese,, Desserts]  \n",
       "1                           [Makati, City, Japanese]  \n",
       "2  [Mandaluyong, City, Seafood,, Asian,, Filipino...  \n",
       "3              [Mandaluyong, City, Japanese,, Sushi]  \n",
       "4             [Mandaluyong, City, Japanese,, Korean]  "
      ]
     },
     "execution_count": 12,
     "metadata": {},
     "output_type": "execute_result"
    }
   ],
   "source": [
    "restaurant_data.head()"
   ]
  },
  {
   "cell_type": "code",
   "execution_count": 13,
   "id": "1d90364d-e45b-49ce-9b90-25d10cfabb21",
   "metadata": {},
   "outputs": [],
   "source": [
    "new_df = restaurant_data[['Restaurant Name', 'City', 'Address', 'Cuisines', 'Aggregate rating', 'tag']]"
   ]
  },
  {
   "cell_type": "code",
   "execution_count": 14,
   "id": "c25ee8d4-ce2b-496e-b260-0551a572251e",
   "metadata": {},
   "outputs": [
    {
     "data": {
      "text/html": [
       "<div>\n",
       "<style scoped>\n",
       "    .dataframe tbody tr th:only-of-type {\n",
       "        vertical-align: middle;\n",
       "    }\n",
       "\n",
       "    .dataframe tbody tr th {\n",
       "        vertical-align: top;\n",
       "    }\n",
       "\n",
       "    .dataframe thead th {\n",
       "        text-align: right;\n",
       "    }\n",
       "</style>\n",
       "<table border=\"1\" class=\"dataframe\">\n",
       "  <thead>\n",
       "    <tr style=\"text-align: right;\">\n",
       "      <th></th>\n",
       "      <th>Restaurant Name</th>\n",
       "      <th>City</th>\n",
       "      <th>Address</th>\n",
       "      <th>Cuisines</th>\n",
       "      <th>Aggregate rating</th>\n",
       "      <th>tag</th>\n",
       "    </tr>\n",
       "  </thead>\n",
       "  <tbody>\n",
       "    <tr>\n",
       "      <th>0</th>\n",
       "      <td>Le Petit Souffle</td>\n",
       "      <td>[Makati, City]</td>\n",
       "      <td>[Third, Floor,, Century, City, Mall,, Kalayaan...</td>\n",
       "      <td>[French,, Japanese,, Desserts]</td>\n",
       "      <td>4.8</td>\n",
       "      <td>[Makati, City, French,, Japanese,, Desserts]</td>\n",
       "    </tr>\n",
       "    <tr>\n",
       "      <th>1</th>\n",
       "      <td>Izakaya Kikufuji</td>\n",
       "      <td>[Makati, City]</td>\n",
       "      <td>[Little, Tokyo,, 2277, Chino, Roces, Avenue,, ...</td>\n",
       "      <td>[Japanese]</td>\n",
       "      <td>4.5</td>\n",
       "      <td>[Makati, City, Japanese]</td>\n",
       "    </tr>\n",
       "    <tr>\n",
       "      <th>2</th>\n",
       "      <td>Heat - Edsa Shangri-La</td>\n",
       "      <td>[Mandaluyong, City]</td>\n",
       "      <td>[Edsa, Shangri-La,, 1, Garden, Way,, Ortigas,,...</td>\n",
       "      <td>[Seafood,, Asian,, Filipino,, Indian]</td>\n",
       "      <td>4.4</td>\n",
       "      <td>[Mandaluyong, City, Seafood,, Asian,, Filipino...</td>\n",
       "    </tr>\n",
       "    <tr>\n",
       "      <th>3</th>\n",
       "      <td>Ooma</td>\n",
       "      <td>[Mandaluyong, City]</td>\n",
       "      <td>[Third, Floor,, Mega, Fashion, Hall,, SM, Mega...</td>\n",
       "      <td>[Japanese,, Sushi]</td>\n",
       "      <td>4.9</td>\n",
       "      <td>[Mandaluyong, City, Japanese,, Sushi]</td>\n",
       "    </tr>\n",
       "    <tr>\n",
       "      <th>4</th>\n",
       "      <td>Sambo Kojin</td>\n",
       "      <td>[Mandaluyong, City]</td>\n",
       "      <td>[Third, Floor,, Mega, Atrium,, SM, Megamall,, ...</td>\n",
       "      <td>[Japanese,, Korean]</td>\n",
       "      <td>4.8</td>\n",
       "      <td>[Mandaluyong, City, Japanese,, Korean]</td>\n",
       "    </tr>\n",
       "  </tbody>\n",
       "</table>\n",
       "</div>"
      ],
      "text/plain": [
       "          Restaurant Name                 City  \\\n",
       "0        Le Petit Souffle       [Makati, City]   \n",
       "1        Izakaya Kikufuji       [Makati, City]   \n",
       "2  Heat - Edsa Shangri-La  [Mandaluyong, City]   \n",
       "3                    Ooma  [Mandaluyong, City]   \n",
       "4             Sambo Kojin  [Mandaluyong, City]   \n",
       "\n",
       "                                             Address  \\\n",
       "0  [Third, Floor,, Century, City, Mall,, Kalayaan...   \n",
       "1  [Little, Tokyo,, 2277, Chino, Roces, Avenue,, ...   \n",
       "2  [Edsa, Shangri-La,, 1, Garden, Way,, Ortigas,,...   \n",
       "3  [Third, Floor,, Mega, Fashion, Hall,, SM, Mega...   \n",
       "4  [Third, Floor,, Mega, Atrium,, SM, Megamall,, ...   \n",
       "\n",
       "                                Cuisines  Aggregate rating  \\\n",
       "0         [French,, Japanese,, Desserts]               4.8   \n",
       "1                             [Japanese]               4.5   \n",
       "2  [Seafood,, Asian,, Filipino,, Indian]               4.4   \n",
       "3                     [Japanese,, Sushi]               4.9   \n",
       "4                    [Japanese,, Korean]               4.8   \n",
       "\n",
       "                                                 tag  \n",
       "0       [Makati, City, French,, Japanese,, Desserts]  \n",
       "1                           [Makati, City, Japanese]  \n",
       "2  [Mandaluyong, City, Seafood,, Asian,, Filipino...  \n",
       "3              [Mandaluyong, City, Japanese,, Sushi]  \n",
       "4             [Mandaluyong, City, Japanese,, Korean]  "
      ]
     },
     "execution_count": 14,
     "metadata": {},
     "output_type": "execute_result"
    }
   ],
   "source": [
    "new_df.head()"
   ]
  },
  {
   "cell_type": "code",
   "execution_count": 15,
   "id": "3fef12af-2bc6-487f-8f39-73d50c7450bd",
   "metadata": {},
   "outputs": [
    {
     "name": "stderr",
     "output_type": "stream",
     "text": [
      "C:\\Users\\ASUS\\AppData\\Local\\Temp\\ipykernel_6036\\3203818262.py:1: SettingWithCopyWarning: \n",
      "A value is trying to be set on a copy of a slice from a DataFrame.\n",
      "Try using .loc[row_indexer,col_indexer] = value instead\n",
      "\n",
      "See the caveats in the documentation: https://pandas.pydata.org/pandas-docs/stable/user_guide/indexing.html#returning-a-view-versus-a-copy\n",
      "  new_df['Restaurant Name'] = new_df['Restaurant Name'].apply(lambda x: x.lower())\n"
     ]
    }
   ],
   "source": [
    "new_df['Restaurant Name'] = new_df['Restaurant Name'].apply(lambda x: x.lower())"
   ]
  },
  {
   "cell_type": "code",
   "execution_count": 16,
   "id": "f1ed4b26-f137-48fc-a2e9-4bb7d1e2a299",
   "metadata": {},
   "outputs": [
    {
     "name": "stderr",
     "output_type": "stream",
     "text": [
      "C:\\Users\\ASUS\\AppData\\Local\\Temp\\ipykernel_6036\\2072057965.py:1: SettingWithCopyWarning: \n",
      "A value is trying to be set on a copy of a slice from a DataFrame.\n",
      "Try using .loc[row_indexer,col_indexer] = value instead\n",
      "\n",
      "See the caveats in the documentation: https://pandas.pydata.org/pandas-docs/stable/user_guide/indexing.html#returning-a-view-versus-a-copy\n",
      "  new_df['tag'] = new_df['tag'].apply(lambda x:\" \".join(x))\n"
     ]
    }
   ],
   "source": [
    "new_df['tag'] = new_df['tag'].apply(lambda x:\" \".join(x))"
   ]
  },
  {
   "cell_type": "code",
   "execution_count": 17,
   "id": "cf6d50a5-a624-447a-ba15-20971e37c79e",
   "metadata": {},
   "outputs": [
    {
     "name": "stderr",
     "output_type": "stream",
     "text": [
      "C:\\Users\\ASUS\\AppData\\Local\\Temp\\ipykernel_6036\\1436014886.py:1: SettingWithCopyWarning: \n",
      "A value is trying to be set on a copy of a slice from a DataFrame.\n",
      "Try using .loc[row_indexer,col_indexer] = value instead\n",
      "\n",
      "See the caveats in the documentation: https://pandas.pydata.org/pandas-docs/stable/user_guide/indexing.html#returning-a-view-versus-a-copy\n",
      "  new_df['tag'] = new_df['tag'].apply(lambda x:x.lower())\n"
     ]
    }
   ],
   "source": [
    "new_df['tag'] = new_df['tag'].apply(lambda x:x.lower())"
   ]
  },
  {
   "cell_type": "code",
   "execution_count": 18,
   "id": "7a8eaecd-ca31-44e8-bc0d-5266166ffc90",
   "metadata": {},
   "outputs": [
    {
     "name": "stderr",
     "output_type": "stream",
     "text": [
      "C:\\Users\\ASUS\\AppData\\Local\\Temp\\ipykernel_6036\\4059717037.py:1: SettingWithCopyWarning: \n",
      "A value is trying to be set on a copy of a slice from a DataFrame.\n",
      "Try using .loc[row_indexer,col_indexer] = value instead\n",
      "\n",
      "See the caveats in the documentation: https://pandas.pydata.org/pandas-docs/stable/user_guide/indexing.html#returning-a-view-versus-a-copy\n",
      "  new_df['Cuisines'] = new_df['Cuisines'].apply(lambda x:\" \".join(x))\n"
     ]
    }
   ],
   "source": [
    "new_df['Cuisines'] = new_df['Cuisines'].apply(lambda x:\" \".join(x))"
   ]
  },
  {
   "cell_type": "code",
   "execution_count": 19,
   "id": "e82d001a-b1ed-4567-80be-6383f50b166d",
   "metadata": {},
   "outputs": [
    {
     "data": {
      "text/html": [
       "<div>\n",
       "<style scoped>\n",
       "    .dataframe tbody tr th:only-of-type {\n",
       "        vertical-align: middle;\n",
       "    }\n",
       "\n",
       "    .dataframe tbody tr th {\n",
       "        vertical-align: top;\n",
       "    }\n",
       "\n",
       "    .dataframe thead th {\n",
       "        text-align: right;\n",
       "    }\n",
       "</style>\n",
       "<table border=\"1\" class=\"dataframe\">\n",
       "  <thead>\n",
       "    <tr style=\"text-align: right;\">\n",
       "      <th></th>\n",
       "      <th>Restaurant Name</th>\n",
       "      <th>City</th>\n",
       "      <th>Address</th>\n",
       "      <th>Cuisines</th>\n",
       "      <th>Aggregate rating</th>\n",
       "      <th>tag</th>\n",
       "    </tr>\n",
       "  </thead>\n",
       "  <tbody>\n",
       "    <tr>\n",
       "      <th>0</th>\n",
       "      <td>le petit souffle</td>\n",
       "      <td>[Makati, City]</td>\n",
       "      <td>[Third, Floor,, Century, City, Mall,, Kalayaan...</td>\n",
       "      <td>French, Japanese, Desserts</td>\n",
       "      <td>4.8</td>\n",
       "      <td>makati city french, japanese, desserts</td>\n",
       "    </tr>\n",
       "    <tr>\n",
       "      <th>1</th>\n",
       "      <td>izakaya kikufuji</td>\n",
       "      <td>[Makati, City]</td>\n",
       "      <td>[Little, Tokyo,, 2277, Chino, Roces, Avenue,, ...</td>\n",
       "      <td>Japanese</td>\n",
       "      <td>4.5</td>\n",
       "      <td>makati city japanese</td>\n",
       "    </tr>\n",
       "    <tr>\n",
       "      <th>2</th>\n",
       "      <td>heat - edsa shangri-la</td>\n",
       "      <td>[Mandaluyong, City]</td>\n",
       "      <td>[Edsa, Shangri-La,, 1, Garden, Way,, Ortigas,,...</td>\n",
       "      <td>Seafood, Asian, Filipino, Indian</td>\n",
       "      <td>4.4</td>\n",
       "      <td>mandaluyong city seafood, asian, filipino, indian</td>\n",
       "    </tr>\n",
       "    <tr>\n",
       "      <th>3</th>\n",
       "      <td>ooma</td>\n",
       "      <td>[Mandaluyong, City]</td>\n",
       "      <td>[Third, Floor,, Mega, Fashion, Hall,, SM, Mega...</td>\n",
       "      <td>Japanese, Sushi</td>\n",
       "      <td>4.9</td>\n",
       "      <td>mandaluyong city japanese, sushi</td>\n",
       "    </tr>\n",
       "    <tr>\n",
       "      <th>4</th>\n",
       "      <td>sambo kojin</td>\n",
       "      <td>[Mandaluyong, City]</td>\n",
       "      <td>[Third, Floor,, Mega, Atrium,, SM, Megamall,, ...</td>\n",
       "      <td>Japanese, Korean</td>\n",
       "      <td>4.8</td>\n",
       "      <td>mandaluyong city japanese, korean</td>\n",
       "    </tr>\n",
       "  </tbody>\n",
       "</table>\n",
       "</div>"
      ],
      "text/plain": [
       "          Restaurant Name                 City  \\\n",
       "0        le petit souffle       [Makati, City]   \n",
       "1        izakaya kikufuji       [Makati, City]   \n",
       "2  heat - edsa shangri-la  [Mandaluyong, City]   \n",
       "3                    ooma  [Mandaluyong, City]   \n",
       "4             sambo kojin  [Mandaluyong, City]   \n",
       "\n",
       "                                             Address  \\\n",
       "0  [Third, Floor,, Century, City, Mall,, Kalayaan...   \n",
       "1  [Little, Tokyo,, 2277, Chino, Roces, Avenue,, ...   \n",
       "2  [Edsa, Shangri-La,, 1, Garden, Way,, Ortigas,,...   \n",
       "3  [Third, Floor,, Mega, Fashion, Hall,, SM, Mega...   \n",
       "4  [Third, Floor,, Mega, Atrium,, SM, Megamall,, ...   \n",
       "\n",
       "                           Cuisines  Aggregate rating  \\\n",
       "0        French, Japanese, Desserts               4.8   \n",
       "1                          Japanese               4.5   \n",
       "2  Seafood, Asian, Filipino, Indian               4.4   \n",
       "3                   Japanese, Sushi               4.9   \n",
       "4                  Japanese, Korean               4.8   \n",
       "\n",
       "                                                 tag  \n",
       "0             makati city french, japanese, desserts  \n",
       "1                               makati city japanese  \n",
       "2  mandaluyong city seafood, asian, filipino, indian  \n",
       "3                   mandaluyong city japanese, sushi  \n",
       "4                  mandaluyong city japanese, korean  "
      ]
     },
     "execution_count": 19,
     "metadata": {},
     "output_type": "execute_result"
    }
   ],
   "source": [
    "new_df.head()"
   ]
  },
  {
   "cell_type": "code",
   "execution_count": 20,
   "id": "21d30bd8-b6dc-4d19-b258-4021181c1817",
   "metadata": {},
   "outputs": [],
   "source": [
    "import nltk\n",
    "from nltk.stem.porter import PorterStemmer\n",
    "\n",
    "ps = PorterStemmer()"
   ]
  },
  {
   "cell_type": "code",
   "execution_count": 21,
   "id": "2cc8b904-0a1c-4af3-a9a5-36ed7384846a",
   "metadata": {},
   "outputs": [],
   "source": [
    "def stem(text):\n",
    "    y = []\n",
    "\n",
    "    for i in text.split():\n",
    "        y.append(ps.stem(i))\n",
    "\n",
    "    return \" \".join(y)"
   ]
  },
  {
   "cell_type": "code",
   "execution_count": 22,
   "id": "75de3b91-e456-49b3-9bfd-a4361aa53dba",
   "metadata": {},
   "outputs": [
    {
     "name": "stderr",
     "output_type": "stream",
     "text": [
      "C:\\Users\\ASUS\\AppData\\Local\\Temp\\ipykernel_6036\\4074900442.py:1: SettingWithCopyWarning: \n",
      "A value is trying to be set on a copy of a slice from a DataFrame.\n",
      "Try using .loc[row_indexer,col_indexer] = value instead\n",
      "\n",
      "See the caveats in the documentation: https://pandas.pydata.org/pandas-docs/stable/user_guide/indexing.html#returning-a-view-versus-a-copy\n",
      "  new_df['tag'] = new_df['tag'].apply(stem)\n"
     ]
    }
   ],
   "source": [
    "new_df['tag'] = new_df['tag'].apply(stem)"
   ]
  },
  {
   "cell_type": "code",
   "execution_count": 23,
   "id": "a2650b6b-a209-4f88-ba6c-0d3e9295f509",
   "metadata": {},
   "outputs": [],
   "source": [
    "from sklearn.feature_extraction.text import CountVectorizer\n",
    "\n",
    "cv = CountVectorizer(max_features=10000, stop_words='english')"
   ]
  },
  {
   "cell_type": "code",
   "execution_count": 24,
   "id": "6b99f826-8386-4ad0-b126-f48df2d2d383",
   "metadata": {},
   "outputs": [],
   "source": [
    "vectors = cv.fit_transform(new_df['tag']).toarray()"
   ]
  },
  {
   "cell_type": "code",
   "execution_count": 25,
   "id": "18d25bcf-1cfd-468c-8537-ce02f2ddbe60",
   "metadata": {},
   "outputs": [
    {
     "data": {
      "text/plain": [
       "array([0, 0, 0, 0, 0, 0, 0, 0, 0, 0, 0, 0, 0, 0, 0, 0, 0, 0, 0, 0, 0, 0,\n",
       "       0, 0, 0, 0, 0, 0, 0, 0, 0, 0, 0, 0, 0, 0, 0, 0, 0, 0, 0, 0, 0, 0,\n",
       "       0, 0, 0, 0, 0, 0, 0, 0, 0, 0, 0, 0, 0, 0, 0, 0, 0, 0, 0, 0, 0, 0,\n",
       "       0, 0, 0, 0, 0, 0, 0, 0, 0, 1, 0, 0, 0, 0, 0, 0, 0, 0, 0, 0, 0, 0,\n",
       "       0, 0, 0, 0, 0, 0, 0, 0, 0, 0, 0, 1, 0, 0, 0, 0, 0, 0, 0, 0, 0, 0,\n",
       "       0, 0, 0, 0, 0, 0, 0, 0, 0, 0, 0, 0, 0, 0, 1, 0, 0, 0, 0, 0, 0, 0,\n",
       "       0, 0, 0, 0, 0, 0, 0, 0, 0, 0, 0, 0, 0, 0, 0, 0, 0, 0, 0, 0, 0, 0,\n",
       "       0, 0, 0, 0, 0, 0, 0, 0, 0, 1, 0, 0, 0, 0, 0, 0, 0, 0, 0, 0, 0, 0,\n",
       "       0, 0, 0, 0, 0, 0, 0, 0, 0, 0, 0, 0, 0, 0, 0, 1, 0, 0, 0, 0, 0, 0,\n",
       "       0, 0, 0, 0, 0, 0, 0, 0, 0, 0, 0, 0, 0, 0, 0, 0, 0, 0, 0, 0, 0, 0,\n",
       "       0, 0, 0, 0, 0, 0, 0, 0, 0, 0, 0, 0, 0, 0, 0, 0, 0, 0, 0, 0, 0, 0,\n",
       "       0, 0, 0, 0, 0, 0, 0, 0, 0, 0, 0, 0, 0, 0, 0, 0, 0, 0, 0, 0, 0, 0,\n",
       "       0, 0, 0, 0, 0, 0, 0, 0, 0, 0, 0, 0, 0, 0, 0, 0, 0, 0, 0, 0, 0, 0,\n",
       "       0, 0, 0, 0, 0, 0, 0, 0, 0, 0, 0, 0, 0, 0, 0, 0, 0, 0, 0, 0, 0, 0,\n",
       "       0, 0, 0, 0, 0, 0, 0, 0, 0, 0, 0, 0, 0, 0, 0, 0, 0, 0, 0, 0, 0, 0,\n",
       "       0, 0], dtype=int64)"
      ]
     },
     "execution_count": 25,
     "metadata": {},
     "output_type": "execute_result"
    }
   ],
   "source": [
    "vectors[0]"
   ]
  },
  {
   "cell_type": "code",
   "execution_count": 26,
   "id": "18603e2c-a761-4c50-880d-c662509be8c4",
   "metadata": {},
   "outputs": [
    {
     "data": {
      "text/plain": [
       "array(['_lia', '_ner', '_rek', 'abu', 'afghani', 'african', 'agra',\n",
       "       'ahmedabad', 'albani', 'allahabad', 'american', 'amritsar',\n",
       "       'andhra', 'ankara', 'arabian', 'argentin', 'argentine', 'armenian',\n",
       "       'armidal', 'asian', 'assames', 'assamese', 'athen', 'auckland',\n",
       "       'augusta', 'aurangabad', 'australian', 'awadhi', 'bakeri',\n",
       "       'bakery', 'balingup', 'ballina', 'bandung', 'bangalor', 'bar',\n",
       "       'bay', 'bbq', 'beach', 'beechworth', 'belgian', 'bengali',\n",
       "       'beverag', 'beverages', 'bhopal', 'bhubaneshwar', 'bihari',\n",
       "       'birmingham', 'biryani', 'bogor', 'bois', 'bras', 'brazilian',\n",
       "       'breakfast', 'british', 'bubbl', 'burger', 'burmes', 'burmese',\n",
       "       'cafe', 'cajun', 'calient', 'canadian', 'cantones', 'cantonese',\n",
       "       'cape', 'caribbean', 'cedar', 'chandigarh', 'charcoal', 'chatham',\n",
       "       'chennai', 'chettinad', 'chines', 'chinese', 'chip', 'citi',\n",
       "       'clatskani', 'cochran', 'coffe', 'coimbator', 'colombo', 'columbu',\n",
       "       'consort', 'contemporari', 'contemporary', 'continent',\n",
       "       'continental', 'cove', 'cream', 'cuban', 'cuisin', 'cuisine',\n",
       "       'curri', 'curry', 'dalton', 'davenport', 'dehradun', 'delhi',\n",
       "       'deli', 'dessert', 'desserts', 'dhabi', 'dicki', 'dim', 'diner',\n",
       "       'doha', 'drink', 'dubai', 'dubuqu', 'durban', 'east', 'eastern',\n",
       "       'edinburgh', 'entranc', 'european', 'faridabad', 'fast', 'fernley',\n",
       "       'filipino', 'finger', 'fish', 'flaxton', 'food', 'forrest',\n",
       "       'french', 'fusion', 'gainesvil', 'german', 'ghaziabad', 'goa',\n",
       "       'goan', 'gourmet', 'greek', 'grill', 'gujarati', 'gurgaon',\n",
       "       'guwahati', 'harbor', 'hawaii', 'hawaiian', 'healthi', 'hepburn',\n",
       "       'huskisson', 'hyderabad', 'hyderabadi', 'ice', 'indian',\n",
       "       'indonesian', 'indor', 'inner', 'intern', 'international',\n",
       "       'inverloch', 'iowa', 'iranian', 'irish', 'island', 'italian',\n",
       "       'izgara', 'jaipur', 'jakarta', 'janeiro', 'japanes', 'japanese',\n",
       "       'johannesburg', 'juan', 'juic', 'juices', 'kanpur', 'kashmiri',\n",
       "       'kebab', 'kerala', 'kiwi', 'kochi', 'kolkata', 'korean', 'lake',\n",
       "       'lakeview', 'lankan', 'latin', 'lebanes', 'lebanese', 'lincoln',\n",
       "       'london', 'lorn', 'lucknow', 'lucknowi', 'ludhiana', 'macedon',\n",
       "       'macon', 'maharashtrian', 'makati', 'malay', 'malaysian',\n",
       "       'malwani', 'manchest', 'mandaluyong', 'mangalor', 'mangalorean',\n",
       "       'mayfield', 'mc', 'meat', 'meats', 'mediterranean', 'mex',\n",
       "       'mexican', 'middl', 'middleton', 'millan', 'mineira', 'mithai',\n",
       "       'modern', 'mohali', 'moin', 'monro', 'montvil', 'moroccan',\n",
       "       'mughlai', 'mumbai', 'mysor', 'naga', 'nagpur', 'nashik',\n",
       "       'nepales', 'nepalese', 'new', 'noida', 'north', 'ojo', 'onli',\n",
       "       'oriya', 'orlando', 'pakistani', 'palm', 'panchkula', 'parsi',\n",
       "       'pasay', 'pasig', 'patisseri', 'patisserie', 'patna', 'paulo',\n",
       "       'paynesvil', 'penola', 'pensacola', 'peranakan', 'persian',\n",
       "       'peruvian', 'phillip', 'pizza', 'pocatello', 'portugues',\n",
       "       'portuguese', 'potrero', 'pretoria', 'princeton', 'pub',\n",
       "       'puducherri', 'pune', 'quezon', 'rajasthani', 'ramen', 'ranchi',\n",
       "       'randburg', 'rapids', 'raw', 'rest', 'restaur', 'rio', 'rosa',\n",
       "       'salad', 'san', 'sandton', 'sandwich', 'santa', 'savannah',\n",
       "       'scottish', 'seafood', 'secunderabad', 'sharjah', 'singapor',\n",
       "       'singaporean', 'sioux', 'soul', 'south', 'southern',\n",
       "       'southwestern', 'spanish', 'spring', 'sri', 'stanbul', 'station',\n",
       "       'steak', 'street', 'sum', 'sunda', 'surat', 'sushi', 'tagaytay',\n",
       "       'taguig', 'taiwanese', 'tampa', 'tangerang', 'tanunda', 'tapa',\n",
       "       'tapas', 'tea', 'teriyaki', 'tex', 'thai', 'tibetan', 'town',\n",
       "       'trentham', 'turkish', 'vadodara', 'valdosta', 'varanasi', 'vari',\n",
       "       'vegetarian', 'vernonia', 'victor', 'vietnames', 'vietnamese',\n",
       "       'vineland', 'vizag', 'waterloo', 'weirton', 'wellington',\n",
       "       'western', 'winchest', 'world', 'yorkton'], dtype=object)"
      ]
     },
     "execution_count": 26,
     "metadata": {},
     "output_type": "execute_result"
    }
   ],
   "source": [
    "cv.get_feature_names_out()"
   ]
  },
  {
   "cell_type": "code",
   "execution_count": 27,
   "id": "38bcff0d-153e-4949-8077-48441412a1d8",
   "metadata": {},
   "outputs": [],
   "source": [
    "from sklearn.metrics.pairwise import cosine_similarity\n",
    "\n",
    "similarity = cosine_similarity(vectors)"
   ]
  },
  {
   "cell_type": "code",
   "execution_count": 28,
   "id": "110bda04-f54e-43ef-b078-d1160ca49959",
   "metadata": {},
   "outputs": [
    {
     "data": {
      "text/html": [
       "<div>\n",
       "<style scoped>\n",
       "    .dataframe tbody tr th:only-of-type {\n",
       "        vertical-align: middle;\n",
       "    }\n",
       "\n",
       "    .dataframe tbody tr th {\n",
       "        vertical-align: top;\n",
       "    }\n",
       "\n",
       "    .dataframe thead th {\n",
       "        text-align: right;\n",
       "    }\n",
       "</style>\n",
       "<table border=\"1\" class=\"dataframe\">\n",
       "  <thead>\n",
       "    <tr style=\"text-align: right;\">\n",
       "      <th></th>\n",
       "      <th>Restaurant Name</th>\n",
       "      <th>City</th>\n",
       "      <th>Address</th>\n",
       "      <th>Cuisines</th>\n",
       "      <th>Aggregate rating</th>\n",
       "      <th>tag</th>\n",
       "    </tr>\n",
       "  </thead>\n",
       "  <tbody>\n",
       "    <tr>\n",
       "      <th>0</th>\n",
       "      <td>le petit souffle</td>\n",
       "      <td>[Makati, City]</td>\n",
       "      <td>[Third, Floor,, Century, City, Mall,, Kalayaan...</td>\n",
       "      <td>French, Japanese, Desserts</td>\n",
       "      <td>4.8</td>\n",
       "      <td>makati citi french, japanese, dessert</td>\n",
       "    </tr>\n",
       "    <tr>\n",
       "      <th>1</th>\n",
       "      <td>izakaya kikufuji</td>\n",
       "      <td>[Makati, City]</td>\n",
       "      <td>[Little, Tokyo,, 2277, Chino, Roces, Avenue,, ...</td>\n",
       "      <td>Japanese</td>\n",
       "      <td>4.5</td>\n",
       "      <td>makati citi japanes</td>\n",
       "    </tr>\n",
       "    <tr>\n",
       "      <th>2</th>\n",
       "      <td>heat - edsa shangri-la</td>\n",
       "      <td>[Mandaluyong, City]</td>\n",
       "      <td>[Edsa, Shangri-La,, 1, Garden, Way,, Ortigas,,...</td>\n",
       "      <td>Seafood, Asian, Filipino, Indian</td>\n",
       "      <td>4.4</td>\n",
       "      <td>mandaluyong citi seafood, asian, filipino, indian</td>\n",
       "    </tr>\n",
       "    <tr>\n",
       "      <th>3</th>\n",
       "      <td>ooma</td>\n",
       "      <td>[Mandaluyong, City]</td>\n",
       "      <td>[Third, Floor,, Mega, Fashion, Hall,, SM, Mega...</td>\n",
       "      <td>Japanese, Sushi</td>\n",
       "      <td>4.9</td>\n",
       "      <td>mandaluyong citi japanese, sushi</td>\n",
       "    </tr>\n",
       "    <tr>\n",
       "      <th>4</th>\n",
       "      <td>sambo kojin</td>\n",
       "      <td>[Mandaluyong, City]</td>\n",
       "      <td>[Third, Floor,, Mega, Atrium,, SM, Megamall,, ...</td>\n",
       "      <td>Japanese, Korean</td>\n",
       "      <td>4.8</td>\n",
       "      <td>mandaluyong citi japanese, korean</td>\n",
       "    </tr>\n",
       "  </tbody>\n",
       "</table>\n",
       "</div>"
      ],
      "text/plain": [
       "          Restaurant Name                 City  \\\n",
       "0        le petit souffle       [Makati, City]   \n",
       "1        izakaya kikufuji       [Makati, City]   \n",
       "2  heat - edsa shangri-la  [Mandaluyong, City]   \n",
       "3                    ooma  [Mandaluyong, City]   \n",
       "4             sambo kojin  [Mandaluyong, City]   \n",
       "\n",
       "                                             Address  \\\n",
       "0  [Third, Floor,, Century, City, Mall,, Kalayaan...   \n",
       "1  [Little, Tokyo,, 2277, Chino, Roces, Avenue,, ...   \n",
       "2  [Edsa, Shangri-La,, 1, Garden, Way,, Ortigas,,...   \n",
       "3  [Third, Floor,, Mega, Fashion, Hall,, SM, Mega...   \n",
       "4  [Third, Floor,, Mega, Atrium,, SM, Megamall,, ...   \n",
       "\n",
       "                           Cuisines  Aggregate rating  \\\n",
       "0        French, Japanese, Desserts               4.8   \n",
       "1                          Japanese               4.5   \n",
       "2  Seafood, Asian, Filipino, Indian               4.4   \n",
       "3                   Japanese, Sushi               4.9   \n",
       "4                  Japanese, Korean               4.8   \n",
       "\n",
       "                                                 tag  \n",
       "0              makati citi french, japanese, dessert  \n",
       "1                                makati citi japanes  \n",
       "2  mandaluyong citi seafood, asian, filipino, indian  \n",
       "3                   mandaluyong citi japanese, sushi  \n",
       "4                  mandaluyong citi japanese, korean  "
      ]
     },
     "execution_count": 28,
     "metadata": {},
     "output_type": "execute_result"
    }
   ],
   "source": [
    "new_df.head()"
   ]
  },
  {
   "cell_type": "code",
   "execution_count": 29,
   "id": "6f68a424-e4ae-4452-8438-83e60758491f",
   "metadata": {},
   "outputs": [
    {
     "data": {
      "text/plain": [
       "'mandaluyong citi seafood, asian, filipino, indian'"
      ]
     },
     "execution_count": 29,
     "metadata": {},
     "output_type": "execute_result"
    }
   ],
   "source": [
    "new_df['tag'][2]"
   ]
  },
  {
   "cell_type": "code",
   "execution_count": 30,
   "id": "dee5b8bc-07a8-407a-957a-eeb6b25ec96a",
   "metadata": {},
   "outputs": [],
   "source": [
    "from difflib import get_close_matches\n",
    "\n",
    "def clean_city(city_val):\n",
    "    \"\"\"Normalize city value to a clean string.\"\"\"\n",
    "    if isinstance(city_val, list):\n",
    "        if city_val:\n",
    "            city_val = city_val[0]\n",
    "        else:\n",
    "            return \"\"\n",
    "    if isinstance(city_val, str):\n",
    "        return city_val.replace(\"[\", \"\").replace(\"]\", \"\").replace(\"'\", \"\").split(\",\")[0].strip()\n",
    "    return str(city_val).strip()\n",
    "\n",
    "def cuisine_set(cuisine_val):\n",
    "    \"\"\"Convert cuisine string/list to a set of lowercase cuisines.\"\"\"\n",
    "    if isinstance(cuisine_val, list):\n",
    "        cuisines = cuisine_val\n",
    "    elif isinstance(cuisine_val, str):\n",
    "        cuisines = [c.strip() for c in cuisine_val.split(\",\")]\n",
    "    else:\n",
    "        cuisines = [str(cuisine_val)]\n",
    "    return {c.lower() for c in cuisines if c}\n"
   ]
  },
  {
   "cell_type": "code",
   "execution_count": 31,
   "id": "c386cf6e-ad65-461f-acb2-0d0b57a21b6c",
   "metadata": {},
   "outputs": [],
   "source": [
    "def recommend_with_name(restaurant):\n",
    "    global new_df, similarity  # assuming you already have these\n",
    "\n",
    "    # Exact match search\n",
    "    matches = new_df[new_df['Restaurant Name'] == restaurant]\n",
    "\n",
    "    if matches.empty:\n",
    "        # Try fuzzy match\n",
    "        all_names = new_df['Restaurant Name'].astype(str).tolist()\n",
    "        close_match = get_close_matches(str(restaurant), all_names, n=1, cutoff=0.6)\n",
    "        if not close_match:\n",
    "            print(f\"No restaurant found for '{restaurant}'. Please check spelling.\")\n",
    "            return\n",
    "        print(f\"No exact match found. Using closest match: {close_match[0]}\")\n",
    "        matches = new_df[new_df['Restaurant Name'] == close_match[0]]\n",
    "\n",
    "    # Get first matching index\n",
    "    restaurant_index = matches.index[0]\n",
    "\n",
    "    # Get cleaned city and cuisines for the selected restaurant\n",
    "    restaurant_city = clean_city(matches.iloc[0]['City'])\n",
    "    restaurant_cuisines = cuisine_set(matches.iloc[0]['Cuisines'])\n",
    "\n",
    "    # Get similarity scores\n",
    "    distances = similarity[restaurant_index]\n",
    "    restaurant_list = sorted(\n",
    "        list(enumerate(distances)),\n",
    "        reverse=True,\n",
    "        key=lambda x: x[1]\n",
    "    )[1:]  # skip itself\n",
    "\n",
    "    # Filter by same city & at least one cuisine match\n",
    "    filtered_list = []\n",
    "    for idx, score in restaurant_list:\n",
    "        rec_city = clean_city(new_df.iloc[idx]['City'])\n",
    "        rec_cuisines = cuisine_set(new_df.iloc[idx]['Cuisines'])\n",
    "        if rec_city == restaurant_city and not restaurant_cuisines.isdisjoint(rec_cuisines):\n",
    "            filtered_list.append((idx, score))\n",
    "        if len(filtered_list) >= 5:\n",
    "            break\n",
    "\n",
    "    # Print results\n",
    "    for idx, score in filtered_list:\n",
    "        name = new_df.iloc[idx]['Restaurant Name']\n",
    "        city = clean_city(new_df.iloc[idx]['City'])\n",
    "        cuisines = new_df.iloc[idx]['Cuisines']\n",
    "        print(f\"{name} ({city}) - {cuisines}\")"
   ]
  },
  {
   "cell_type": "code",
   "execution_count": 32,
   "id": "47646aaa-11ca-44f6-8053-38b8d86e6f80",
   "metadata": {},
   "outputs": [
    {
     "name": "stdout",
     "output_type": "stream",
     "text": [
      "No exact match found. Using closest match: decked up by garden cafe\n",
      "tapri central (Jaipur) - Cafe, Fast Food, Street Food\n",
      "decked up by garden cafe (Jaipur) - Cafe, Fast Food, North Indian\n",
      "mutual's (Jaipur) - Cafe, Mexican, Italian, North Indian, Fast Food\n",
      "blackout (Jaipur) - North Indian, European, Continental, Finger Food\n",
      "the forresta kitchen & bar (Jaipur) - Continental, Mexican, Beverages, Desserts, North Indian, Chinese, Rajasthani\n"
     ]
    }
   ],
   "source": [
    "recommend_with_name('Decked Up By Garden Cafe')"
   ]
  },
  {
   "cell_type": "code",
   "execution_count": 33,
   "id": "465a67a7-e51b-47b4-b205-b0622936d65c",
   "metadata": {},
   "outputs": [
    {
     "name": "stdout",
     "output_type": "stream",
     "text": [
      "✅ Pickle files saved: restaurants.pkl and similarity.pkl\n"
     ]
    }
   ],
   "source": [
    "import pickle\n",
    "\n",
    "pickle.dump(new_df.to_dict(), open(\"restaurants.pkl\", \"wb\"))\n",
    "pickle.dump(similarity, open(\"similarity.pkl\", \"wb\"))\n",
    "\n",
    "print(\"✅ Pickle files saved: restaurants.pkl and similarity.pkl\")"
   ]
  },
  {
   "cell_type": "code",
   "execution_count": null,
   "id": "b543e930-a558-4723-910b-e7fd2bed325d",
   "metadata": {},
   "outputs": [],
   "source": []
  },
  {
   "cell_type": "code",
   "execution_count": null,
   "id": "ba5d3b92-4255-40c4-b36c-43ff548a4196",
   "metadata": {},
   "outputs": [],
   "source": []
  }
 ],
 "metadata": {
  "kernelspec": {
   "display_name": "Python 3 (ipykernel)",
   "language": "python",
   "name": "python3"
  },
  "language_info": {
   "codemirror_mode": {
    "name": "ipython",
    "version": 3
   },
   "file_extension": ".py",
   "mimetype": "text/x-python",
   "name": "python",
   "nbconvert_exporter": "python",
   "pygments_lexer": "ipython3",
   "version": "3.11.9"
  }
 },
 "nbformat": 4,
 "nbformat_minor": 5
}
